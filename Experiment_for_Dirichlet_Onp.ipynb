{
  "nbformat": 4,
  "nbformat_minor": 0,
  "metadata": {
    "colab": {
      "name": "Experiment for Dirichlet Onp.ipynb",
      "provenance": [],
      "collapsed_sections": []
    },
    "kernelspec": {
      "name": "python3",
      "display_name": "Python 3"
    },
    "language_info": {
      "name": "python"
    },
    "accelerator": "GPU"
  },
  "cells": [
    {
      "cell_type": "code",
      "execution_count": null,
      "metadata": {
        "colab": {
          "base_uri": "https://localhost:8080/"
        },
        "id": "8uxvaZh4JC3m",
        "outputId": "aa808ab1-a1cd-4215-b636-005954cf6265"
      },
      "outputs": [
        {
          "output_type": "stream",
          "name": "stdout",
          "text": [
            "Cloning into 'RLPortfolio-Dirichlet-COLAB'...\n",
            "remote: Enumerating objects: 130, done.\u001b[K\n",
            "remote: Counting objects: 100% (130/130), done.\u001b[K\n",
            "remote: Compressing objects: 100% (94/94), done.\u001b[K\n",
            "remote: Total 130 (delta 68), reused 97 (delta 35), pack-reused 0\u001b[K\n",
            "Receiving objects: 100% (130/130), 563.04 KiB | 11.49 MiB/s, done.\n",
            "Resolving deltas: 100% (68/68), done.\n"
          ]
        }
      ],
      "source": [
        "! git clone https://github.com/Yang-Hyun-Jun/RLPortfolio-DirichletOnp-COLAB.git"
      ]
    },
    {
      "cell_type": "code",
      "source": [
        "! pip install mplfinance"
      ],
      "metadata": {
        "colab": {
          "base_uri": "https://localhost:8080/"
        },
        "id": "kUg00ApLZcT_",
        "outputId": "4c0e3495-f06e-4166-8377-a83148ece410"
      },
      "execution_count": null,
      "outputs": [
        {
          "output_type": "stream",
          "name": "stdout",
          "text": [
            "Looking in indexes: https://pypi.org/simple, https://us-python.pkg.dev/colab-wheels/public/simple/\n",
            "Collecting mplfinance\n",
            "  Downloading mplfinance-0.12.9b1-py3-none-any.whl (70 kB)\n",
            "\u001b[K     |████████████████████████████████| 70 kB 3.7 MB/s \n",
            "\u001b[?25hRequirement already satisfied: matplotlib in /usr/local/lib/python3.7/dist-packages (from mplfinance) (3.2.2)\n",
            "Requirement already satisfied: pandas in /usr/local/lib/python3.7/dist-packages (from mplfinance) (1.3.5)\n",
            "Requirement already satisfied: pyparsing!=2.0.4,!=2.1.2,!=2.1.6,>=2.0.1 in /usr/local/lib/python3.7/dist-packages (from matplotlib->mplfinance) (3.0.9)\n",
            "Requirement already satisfied: kiwisolver>=1.0.1 in /usr/local/lib/python3.7/dist-packages (from matplotlib->mplfinance) (1.4.2)\n",
            "Requirement already satisfied: cycler>=0.10 in /usr/local/lib/python3.7/dist-packages (from matplotlib->mplfinance) (0.11.0)\n",
            "Requirement already satisfied: python-dateutil>=2.1 in /usr/local/lib/python3.7/dist-packages (from matplotlib->mplfinance) (2.8.2)\n",
            "Requirement already satisfied: numpy>=1.11 in /usr/local/lib/python3.7/dist-packages (from matplotlib->mplfinance) (1.21.6)\n",
            "Requirement already satisfied: typing-extensions in /usr/local/lib/python3.7/dist-packages (from kiwisolver>=1.0.1->matplotlib->mplfinance) (4.2.0)\n",
            "Requirement already satisfied: six>=1.5 in /usr/local/lib/python3.7/dist-packages (from python-dateutil>=2.1->matplotlib->mplfinance) (1.15.0)\n",
            "Requirement already satisfied: pytz>=2017.3 in /usr/local/lib/python3.7/dist-packages (from pandas->mplfinance) (2022.1)\n",
            "Installing collected packages: mplfinance\n",
            "Successfully installed mplfinance-0.12.9b1\n"
          ]
        }
      ]
    },
    {
      "cell_type": "code",
      "source": [
        "import sys\n",
        "import os\n",
        "import torch"
      ],
      "metadata": {
        "id": "FM8aiSypZdM1"
      },
      "execution_count": null,
      "outputs": []
    },
    {
      "cell_type": "code",
      "source": [
        "sys.path.insert(0, \"/content/RLPortfolio-DirichletOnp-COLAB\")"
      ],
      "metadata": {
        "id": "6gm9-zmgZeOs"
      },
      "execution_count": null,
      "outputs": []
    },
    {
      "cell_type": "code",
      "source": [
        "os.makedirs(\"/content/Metrics\", exist_ok=True)\n",
        "os.makedirs(\"/content/Models\", exist_ok=True)"
      ],
      "metadata": {
        "id": "LtkWB-_fZfAR"
      },
      "execution_count": null,
      "outputs": []
    },
    {
      "cell_type": "code",
      "source": [
        "import DataManager\n",
        "import utils\n",
        "\n",
        "from Learner import DIRILearner\n",
        "from Test import DIRITester"
      ],
      "metadata": {
        "id": "f8V2dr-IZf76"
      },
      "execution_count": null,
      "outputs": []
    },
    {
      "cell_type": "code",
      "source": [
        "# Data Load\n",
        "\n",
        "stock_list = [\"HA\", \"WBA\", \"INCY\", \"BIDU\", \"TCOM\", \"AAPL\", \"COST\"]\n",
        "path_list = []\n",
        "\n",
        "for stock_name in stock_list:\n",
        "  path = utils.SAVE_DIR + \"/RLPortfolio-DirichletOnp-COLAB/Data/\" + stock_name\n",
        "  path_list.append(path)\n",
        "\n",
        "train_data, test_data = DataManager.get_data_tensor(path_list,\n",
        "                                                    train_date_start=\"2014-06-02\",\n",
        "                                                    train_date_end=\"2019-12-31\",\n",
        "                                                    test_date_start=\"2020-01-02\",\n",
        "                                                    test_date_end=\"2021-12-31\")"
      ],
      "metadata": {
        "colab": {
          "base_uri": "https://localhost:8080/"
        },
        "id": "GGr1SN1gZg5x",
        "outputId": "c015a983-6b6b-4caa-8ea7-09b2f5453f98"
      },
      "execution_count": null,
      "outputs": [
        {
          "output_type": "stream",
          "name": "stdout",
          "text": [
            "-------------------------------------\n",
            "학습 데이터 시작 거래일:2014-06-02\n",
            "학습 데이터 마지막 거래일:2019-12-31\n",
            "테스트 데이터 시작 거래일:2020-01-02\n",
            "테스트 데이터 마지막 거래일:2021-12-31\n",
            "-------------------------------------\n"
          ]
        }
      ]
    },
    {
      "cell_type": "code",
      "source": [
        "\"\"\"\"\n",
        "K: 거래 종목 수\n",
        "lr: learing rate (default 1e-5)\n",
        "tau: soft target update (default 0.005)\n",
        "delta: hold action threshold (default 0.005)\n",
        "discount_factor: gamma (default 0.9)\n",
        "num_episode: episode (default 50)\n",
        "balance: 초기 투자금 (default 12000 달러) \n",
        "batch_size: 배치 사이즈 (default 30)\n",
        "memory_size: 버퍼 사이즈 (default 100)\n",
        "min_trading_price: 최소 거래 금액 (default 0달러)\n",
        "max_trading_price: 최대 거래 금액 (default 400달러) \n",
        "repre: 테스트시 대푯값 (\"mean\" or \"mode\")\n",
        "\"\"\"\n",
        "\n",
        "# Hyperparameters\n",
        "K = len(stock_list)\n",
        "lr = 1e-5\n",
        "tau = 0.005\n",
        "delta = 0.005\n",
        "discount_factor = 0.9\n",
        "num_episode = 50\n",
        "balance = 30000\n",
        "batch_size = 30\n",
        "memory_size = 100\n",
        "min_trading_price = 0\n",
        "max_trading_price = 1000\n",
        "repre = \"mean\"\n",
        "\n",
        "# paramter1 for training\n",
        "parameters1 = {\"lr\":lr, \n",
        "               \"tau\":tau,\n",
        "               \"K\":K,\n",
        "               \"delta\":delta, \"cost\":0.0,\n",
        "               \"chart_data\":train_data,\n",
        "               \"discount_factor\":discount_factor,\n",
        "               \"min_trading_price\":min_trading_price,\n",
        "               \"max_trading_price\":max_trading_price,\n",
        "               \"batch_size\":batch_size,\n",
        "               \"memory_size\":memory_size}\n",
        "\n",
        "# parameter2 : for test\n",
        "parameters2 = {\"K\":K,\n",
        "               \"delta\":delta,\n",
        "               \"balance\":balance, \"cost\":0.0025,\n",
        "               \"min_trading_price\":min_trading_price,\n",
        "               \"max_trading_price\":max_trading_price,\n",
        "               \"test_data\":test_data,\n",
        "               \"repre\":repre,\n",
        "               \"holding\":True} "
      ],
      "metadata": {
        "id": "9-cWv9MTZiAM"
      },
      "execution_count": null,
      "outputs": []
    },
    {
      "cell_type": "code",
      "source": [
        "# 학습 수행\n",
        "learner = DIRILearner(**parameters1)\n",
        "learner.run(num_episode=num_episode, balance=balance)\n",
        "learner.save_model(critic_path=utils.SAVE_DIR + \"/Models\" + \"/DirichletPortfolio_critic.pth\",\n",
        "                   actor_path=utils.SAVE_DIR + \"/Models\" + \"/DirichletPortfolio_actor.pth\",\n",
        "                   score_net_path=utils.SAVE_DIR + \"/Models\" + \"/DirichletPortfolio_score.pth\")"
      ],
      "metadata": {
        "id": "lrGKrsXJZjTK"
      },
      "execution_count": null,
      "outputs": []
    },
    {
      "cell_type": "code",
      "source": [
        "# 테스트 수행\n",
        "tester = DIRITester(**parameters2)\n",
        "tester.run() "
      ],
      "metadata": {
        "id": "UUWMnxA7ZkR-"
      },
      "execution_count": null,
      "outputs": []
    },
    {
      "cell_type": "code",
      "source": [
        "! zip -r /content/Metrics.zip /content"
      ],
      "metadata": {
        "id": "P50OHIdmjkwR"
      },
      "execution_count": null,
      "outputs": []
    },
    {
      "cell_type": "code",
      "source": [
        "from google.colab import files\n",
        "files.download(\"/content/Metrics.zip\")"
      ],
      "metadata": {
        "colab": {
          "base_uri": "https://localhost:8080/",
          "height": 17
        },
        "id": "26Z7YaLmjvYy",
        "outputId": "deeb2ba3-8213-4185-ea78-bc6fb0932672"
      },
      "execution_count": null,
      "outputs": [
        {
          "output_type": "display_data",
          "data": {
            "text/plain": [
              "<IPython.core.display.Javascript object>"
            ],
            "application/javascript": [
              "\n",
              "    async function download(id, filename, size) {\n",
              "      if (!google.colab.kernel.accessAllowed) {\n",
              "        return;\n",
              "      }\n",
              "      const div = document.createElement('div');\n",
              "      const label = document.createElement('label');\n",
              "      label.textContent = `Downloading \"${filename}\": `;\n",
              "      div.appendChild(label);\n",
              "      const progress = document.createElement('progress');\n",
              "      progress.max = size;\n",
              "      div.appendChild(progress);\n",
              "      document.body.appendChild(div);\n",
              "\n",
              "      const buffers = [];\n",
              "      let downloaded = 0;\n",
              "\n",
              "      const channel = await google.colab.kernel.comms.open(id);\n",
              "      // Send a message to notify the kernel that we're ready.\n",
              "      channel.send({})\n",
              "\n",
              "      for await (const message of channel.messages) {\n",
              "        // Send a message to notify the kernel that we're ready.\n",
              "        channel.send({})\n",
              "        if (message.buffers) {\n",
              "          for (const buffer of message.buffers) {\n",
              "            buffers.push(buffer);\n",
              "            downloaded += buffer.byteLength;\n",
              "            progress.value = downloaded;\n",
              "          }\n",
              "        }\n",
              "      }\n",
              "      const blob = new Blob(buffers, {type: 'application/binary'});\n",
              "      const a = document.createElement('a');\n",
              "      a.href = window.URL.createObjectURL(blob);\n",
              "      a.download = filename;\n",
              "      div.appendChild(a);\n",
              "      a.click();\n",
              "      div.remove();\n",
              "    }\n",
              "  "
            ]
          },
          "metadata": {}
        },
        {
          "output_type": "display_data",
          "data": {
            "text/plain": [
              "<IPython.core.display.Javascript object>"
            ],
            "application/javascript": [
              "download(\"download_b3e1514e-0a0d-48c3-9251-0ca81369220c\", \"Metrics.zip\", 8627215)"
            ]
          },
          "metadata": {}
        }
      ]
    }
  ]
}